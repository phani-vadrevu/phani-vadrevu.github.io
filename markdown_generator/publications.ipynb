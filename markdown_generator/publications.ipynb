{
 "cells": [
  {
   "cell_type": "markdown",
   "metadata": {},
   "source": [
    "# Publications markdown generator for academicpages\n",
    "\n",
    "Takes a TSV of publications with metadata and converts them for use with [academicpages.github.io](academicpages.github.io). This is an interactive Jupyter notebook ([see more info here](http://jupyter-notebook-beginner-guide.readthedocs.io/en/latest/what_is_jupyter.html)). The core python code is also in `publications.py`. Run either from the `markdown_generator` folder after replacing `publications.tsv` with one containing your data.\n",
    "\n",
    "TODO: Make this work with BibTex and other databases of citations, rather than Stuart's non-standard TSV format and citation style.\n"
   ]
  },
  {
   "cell_type": "markdown",
   "metadata": {},
   "source": [
    "## Data format\n",
    "\n",
    "The TSV needs to have the following columns: pub_date, title, venue, excerpt, citation, site_url, and paper_url, with a header at the top. \n",
    "\n",
    "- `excerpt` and `paper_url` can be blank, but the others must have values. \n",
    "- `pub_date` must be formatted as YYYY-MM-DD.\n",
    "- `url_slug` will be the descriptive part of the .md file and the permalink URL for the page about the paper. The .md file will be `YYYY-MM-DD-[url_slug].md` and the permalink will be `https://[yourdomain]/publications/YYYY-MM-DD-[url_slug]`\n",
    "\n",
    "This is how the raw file looks (it doesn't look pretty, use a spreadsheet or other program to edit and create)."
   ]
  },
  {
   "cell_type": "code",
   "execution_count": 2,
   "metadata": {},
   "outputs": [
    {
     "name": "stdout",
     "output_type": "stream",
     "text": [
      "authors\tpub_year\ttitle\tconference\tlocation\tpaper_url\taccepted\tsubmitted\tvideo_url\r\n",
      "Phani Vadrevu, Babak Rahbarinia, Roberto Perdisci, Kang Li, Manos Antonakakis\t2013\tMeasuring and detecting malware downloads in live network traffic\tEuropean Symposium on Research in Computer Security (ESORICS)\tEgham, U.K.\t/files/papers/amico.pdf\t43\t242\t-\r\n",
      "Phani Vadrevu, Roberto Perdisci\t2016\tMAXS: Scaling malware execution with sequential multi-hypothesis testing\t11th ACM on Asia Conference on Computer and Communications Security (AsiaCCS)\tXi'an, China\t/files/papers/maxs.pdf\t73\t350\t-\r\n",
      "Phani Vadrevu, Jienan Liu, Bo Li, Babak Rahbarinia, Kyu Hyung Lee, Roberto Perdisci\t2017\tEnabling Reconstruction of Attacks on Users via Efficient Browsing Snapshots\t24th Annual Network and Distributed System Security Symposium (NDSS)\tSan Diego, U.S.A.\t/files/papers/chromepic.pdf\t68\t423\thttps://www.youtube.com/watch?v=iIgTjHr1w0o\r\n",
      "Bo Li, Phani Vadrevu, Kyu Hyung Lee, Roberto Perdisci\t2018\tJSgraph: Enabling Reconstruction of Web Attacks via Efficient Tracking of Live In-Browser JavaScript Executions\t25th Annual Network and Distributed System Security Symposium (NDSS)\tSan Diego, U.S.A.\t/files/papers/jsgraph.pdf\t71\t331\thttps://www.youtube.com/watch?v=pZU1RIxTMUs\r\n",
      "Phani Vadrevu, Roberto Perdisci\t2019\tWhat You See is NOT What You Get: Discovering and Tracking Ad-Driven Social Engineering Attack Campaigns\t19th ACM Internet Measurement Conference (IMC)\tAmsterdam, Netherlands\t/files/papers/seacma.pdf\t38\t197\thttps://vimeo.com/showcase/6531379/video/369121670#t=3018s\r\n",
      "Karthika Subramani, Xingzi Yuan, Omid Setayeshfar, Phani Vadrevu, Kyu Hyung Lee, Roberto Perdisci\t2020\tWhen Push Comes to Ads: Measuring the Rise of (Malicious) Push Advertising\t20th ACM Internet Measurement Conference (IMC)\tVirtual\t/files/papers/pushads.pdf\t53\t216\thttps://dl.acm.org/action/downloadSupplement?doi=10.1145%2F3419394.3423631&file=imc2020-107-long.mp4\r\n",
      "Bhupendra Acharya, Phani Vadrevu\t2021\tPhishPrint: Evading Phishing Detection Crawlers by Prior Profiling\tVirtual 2021    30th USENIX Security Symposium (USENIX Security)\t/files/papers/phishprint.pdf\t-\t-\thttps://www.usenix.org/conference/usenixsecurity21/presentation/acharya\r\n"
     ]
    }
   ],
   "source": [
    "!cat publications.tsv"
   ]
  },
  {
   "cell_type": "markdown",
   "metadata": {},
   "source": [
    "## Import pandas\n",
    "\n",
    "We are using the very handy pandas library for dataframes."
   ]
  },
  {
   "cell_type": "code",
   "execution_count": 8,
   "metadata": {},
   "outputs": [],
   "source": [
    "import pandas as pd"
   ]
  },
  {
   "cell_type": "markdown",
   "metadata": {},
   "source": [
    "## Import TSV\n",
    "\n",
    "Pandas makes this easy with the read_csv function. We are using a TSV, so we specify the separator as a tab, or `\\t`.\n",
    "\n",
    "I found it important to put this data in a tab-separated values format, because there are a lot of commas in this kind of data and comma-separated values can get messed up. However, you can modify the import statement, as pandas also has read_excel(), read_json(), and others."
   ]
  },
  {
   "cell_type": "code",
   "execution_count": 16,
   "metadata": {},
   "outputs": [
    {
     "data": {
      "text/html": [
       "<div>\n",
       "<style scoped>\n",
       "    .dataframe tbody tr th:only-of-type {\n",
       "        vertical-align: middle;\n",
       "    }\n",
       "\n",
       "    .dataframe tbody tr th {\n",
       "        vertical-align: top;\n",
       "    }\n",
       "\n",
       "    .dataframe thead th {\n",
       "        text-align: right;\n",
       "    }\n",
       "</style>\n",
       "<table border=\"1\" class=\"dataframe\">\n",
       "  <thead>\n",
       "    <tr style=\"text-align: right;\">\n",
       "      <th></th>\n",
       "      <th>authors</th>\n",
       "      <th>pub_year</th>\n",
       "      <th>title</th>\n",
       "      <th>conference</th>\n",
       "      <th>location</th>\n",
       "      <th>paper_url</th>\n",
       "      <th>accepted</th>\n",
       "      <th>submitted</th>\n",
       "      <th>video_url</th>\n",
       "    </tr>\n",
       "  </thead>\n",
       "  <tbody>\n",
       "    <tr>\n",
       "      <th>0</th>\n",
       "      <td>Phani Vadrevu, Babak Rahbarinia, Roberto Perdi...</td>\n",
       "      <td>2013</td>\n",
       "      <td>Measuring and detecting malware downloads in l...</td>\n",
       "      <td>European Symposium on Research in Computer Sec...</td>\n",
       "      <td>Egham, U.K.</td>\n",
       "      <td>/files/papers/amico.pdf</td>\n",
       "      <td>43</td>\n",
       "      <td>242</td>\n",
       "      <td>-</td>\n",
       "    </tr>\n",
       "    <tr>\n",
       "      <th>1</th>\n",
       "      <td>Phani Vadrevu, Roberto Perdisci</td>\n",
       "      <td>2016</td>\n",
       "      <td>MAXS: Scaling malware execution with sequentia...</td>\n",
       "      <td>11th ACM on Asia Conference on Computer and Co...</td>\n",
       "      <td>Xi'an, China</td>\n",
       "      <td>/files/papers/maxs.pdf</td>\n",
       "      <td>73</td>\n",
       "      <td>350</td>\n",
       "      <td>-</td>\n",
       "    </tr>\n",
       "    <tr>\n",
       "      <th>2</th>\n",
       "      <td>Phani Vadrevu, Jienan Liu, Bo Li, Babak Rahbar...</td>\n",
       "      <td>2017</td>\n",
       "      <td>Enabling Reconstruction of Attacks on Users vi...</td>\n",
       "      <td>24th Annual Network and Distributed System Sec...</td>\n",
       "      <td>San Diego, U.S.A.</td>\n",
       "      <td>/files/papers/chromepic.pdf</td>\n",
       "      <td>68</td>\n",
       "      <td>423</td>\n",
       "      <td>https://www.youtube.com/watch?v=iIgTjHr1w0o</td>\n",
       "    </tr>\n",
       "    <tr>\n",
       "      <th>3</th>\n",
       "      <td>Bo Li, Phani Vadrevu, Kyu Hyung Lee, Roberto P...</td>\n",
       "      <td>2018</td>\n",
       "      <td>JSgraph: Enabling Reconstruction of Web Attack...</td>\n",
       "      <td>25th Annual Network and Distributed System Sec...</td>\n",
       "      <td>San Diego, U.S.A.</td>\n",
       "      <td>/files/papers/jsgraph.pdf</td>\n",
       "      <td>71</td>\n",
       "      <td>331</td>\n",
       "      <td>https://www.youtube.com/watch?v=pZU1RIxTMUs</td>\n",
       "    </tr>\n",
       "    <tr>\n",
       "      <th>4</th>\n",
       "      <td>Phani Vadrevu, Roberto Perdisci</td>\n",
       "      <td>2019</td>\n",
       "      <td>What You See is NOT What You Get: Discovering ...</td>\n",
       "      <td>19th ACM Internet Measurement Conference (IMC)</td>\n",
       "      <td>Amsterdam, Netherlands</td>\n",
       "      <td>/files/papers/seacma.pdf</td>\n",
       "      <td>38</td>\n",
       "      <td>197</td>\n",
       "      <td>https://vimeo.com/showcase/6531379/video/36912...</td>\n",
       "    </tr>\n",
       "    <tr>\n",
       "      <th>5</th>\n",
       "      <td>Karthika Subramani, Xingzi Yuan, Omid Setayesh...</td>\n",
       "      <td>2020</td>\n",
       "      <td>When Push Comes to Ads: Measuring the Rise of ...</td>\n",
       "      <td>20th ACM Internet Measurement Conference (IMC)</td>\n",
       "      <td>Virtual</td>\n",
       "      <td>/files/papers/pushads.pdf</td>\n",
       "      <td>53</td>\n",
       "      <td>216</td>\n",
       "      <td>https://dl.acm.org/action/downloadSupplement?d...</td>\n",
       "    </tr>\n",
       "    <tr>\n",
       "      <th>6</th>\n",
       "      <td>Bhupendra Acharya, Phani Vadrevu</td>\n",
       "      <td>2021</td>\n",
       "      <td>PhishPrint: Evading Phishing Detection Crawler...</td>\n",
       "      <td>30th USENIX Security Symposium (USENIX Security)</td>\n",
       "      <td>Virtual</td>\n",
       "      <td>/files/papers/phishprint.pdf</td>\n",
       "      <td>-</td>\n",
       "      <td>-</td>\n",
       "      <td>https://www.usenix.org/conference/usenixsecuri...</td>\n",
       "    </tr>\n",
       "  </tbody>\n",
       "</table>\n",
       "</div>"
      ],
      "text/plain": [
       "                                             authors  pub_year  \\\n",
       "0  Phani Vadrevu, Babak Rahbarinia, Roberto Perdi...      2013   \n",
       "1                    Phani Vadrevu, Roberto Perdisci      2016   \n",
       "2  Phani Vadrevu, Jienan Liu, Bo Li, Babak Rahbar...      2017   \n",
       "3  Bo Li, Phani Vadrevu, Kyu Hyung Lee, Roberto P...      2018   \n",
       "4                    Phani Vadrevu, Roberto Perdisci      2019   \n",
       "5  Karthika Subramani, Xingzi Yuan, Omid Setayesh...      2020   \n",
       "6                   Bhupendra Acharya, Phani Vadrevu      2021   \n",
       "\n",
       "                                               title  \\\n",
       "0  Measuring and detecting malware downloads in l...   \n",
       "1  MAXS: Scaling malware execution with sequentia...   \n",
       "2  Enabling Reconstruction of Attacks on Users vi...   \n",
       "3  JSgraph: Enabling Reconstruction of Web Attack...   \n",
       "4  What You See is NOT What You Get: Discovering ...   \n",
       "5  When Push Comes to Ads: Measuring the Rise of ...   \n",
       "6  PhishPrint: Evading Phishing Detection Crawler...   \n",
       "\n",
       "                                          conference                location  \\\n",
       "0  European Symposium on Research in Computer Sec...             Egham, U.K.   \n",
       "1  11th ACM on Asia Conference on Computer and Co...            Xi'an, China   \n",
       "2  24th Annual Network and Distributed System Sec...       San Diego, U.S.A.   \n",
       "3  25th Annual Network and Distributed System Sec...       San Diego, U.S.A.   \n",
       "4     19th ACM Internet Measurement Conference (IMC)  Amsterdam, Netherlands   \n",
       "5     20th ACM Internet Measurement Conference (IMC)                 Virtual   \n",
       "6   30th USENIX Security Symposium (USENIX Security)                 Virtual   \n",
       "\n",
       "                      paper_url accepted submitted  \\\n",
       "0       /files/papers/amico.pdf       43       242   \n",
       "1        /files/papers/maxs.pdf       73       350   \n",
       "2   /files/papers/chromepic.pdf       68       423   \n",
       "3     /files/papers/jsgraph.pdf       71       331   \n",
       "4      /files/papers/seacma.pdf       38       197   \n",
       "5     /files/papers/pushads.pdf       53       216   \n",
       "6  /files/papers/phishprint.pdf        -         -   \n",
       "\n",
       "                                           video_url  \n",
       "0                                                  -  \n",
       "1                                                  -  \n",
       "2        https://www.youtube.com/watch?v=iIgTjHr1w0o  \n",
       "3        https://www.youtube.com/watch?v=pZU1RIxTMUs  \n",
       "4  https://vimeo.com/showcase/6531379/video/36912...  \n",
       "5  https://dl.acm.org/action/downloadSupplement?d...  \n",
       "6  https://www.usenix.org/conference/usenixsecuri...  "
      ]
     },
     "execution_count": 16,
     "metadata": {},
     "output_type": "execute_result"
    }
   ],
   "source": [
    "publications = pd.read_csv(\"publications.tsv\", sep=\"\\t\", header=0)\n",
    "publications\n"
   ]
  },
  {
   "cell_type": "code",
   "execution_count": 17,
   "metadata": {},
   "outputs": [
    {
     "data": {
      "text/plain": [
       "Index(['authors', 'pub_year', 'title', 'conference', 'location', 'paper_url',\n",
       "       'accepted', 'submitted', 'video_url'],\n",
       "      dtype='object')"
      ]
     },
     "execution_count": 17,
     "metadata": {},
     "output_type": "execute_result"
    }
   ],
   "source": [
    "publications.columns"
   ]
  },
  {
   "cell_type": "markdown",
   "metadata": {},
   "source": [
    "## Escape special characters\n",
    "\n",
    "YAML is very picky about how it takes a valid string, so we are replacing single and double quotes (and ampersands) with their HTML encoded equivilents. This makes them look not so readable in raw format, but they are parsed and rendered nicely."
   ]
  },
  {
   "cell_type": "code",
   "execution_count": 18,
   "metadata": {},
   "outputs": [],
   "source": [
    "html_escape_table = {\n",
    "    \"&\": \"&amp;\",\n",
    "    '\"': \"&quot;\",\n",
    "    \"'\": \"&apos;\"\n",
    "    }\n",
    "\n",
    "def html_escape(text):\n",
    "    \"\"\"Produce entities within text.\"\"\"\n",
    "    return \"\".join(html_escape_table.get(c,c) for c in text)"
   ]
  },
  {
   "cell_type": "markdown",
   "metadata": {},
   "source": [
    "## Creating the markdown files\n",
    "\n",
    "This is where the heavy lifting is done. This loops through all the rows in the TSV dataframe, then starts to concatentate a big string (```md```) that contains the markdown for each type. It does the YAML metadata first, then does the description for the individual page."
   ]
  },
  {
   "cell_type": "code",
   "execution_count": 19,
   "metadata": {},
   "outputs": [],
   "source": [
    "import os\n",
    "for row, item in publications.iterrows():\n",
    "    \n",
    "    paper_name = item.paper_url.rsplit('/', 1)[1].split('.')[0]\n",
    "    md_filename = str(item.pub_year) + \"-\" + paper_name + \".md\"\n",
    "    html_filename = str(item.pub_year) + \"-\" + paper_name\n",
    "    ## YAML variables\n",
    "    \n",
    "    md = \"---\\ntitle: \\\"\"   + item.title + '\"\\n'\n",
    "    \n",
    "    md += \"\"\"collection: publications\"\"\"\n",
    "    \n",
    "    md += \"\"\"\\npermalink: /publication/\"\"\" + html_filename\n",
    "    \n",
    "    md += \"\\nyear: \" + str(item.pub_year) \n",
    "    \n",
    "    md += \"\\nconference: '\" + html_escape(item.conference) + \"'\"\n",
    "    \n",
    "    md += \"\\nauthors: \" + \"[\" + \", \".join([\"'\" + a + \"'\" for a in item.authors.split(', ')]) + \"]\"\n",
    "\n",
    "    md += \"\\nlocation: '\" + html_escape(item.location) + \"'\"\n",
    "\n",
    "    md += \"\\naccepted: '\" + str(item.accepted) + \"'\"\n",
    "    \n",
    "    md += \"\\nsubmitted: '\" + str(item.submitted) + \"'\"\n",
    "    \n",
    "    if len(str(item.paper_url)) > 5:\n",
    "        md += \"\\npaper_url: '\" + item.paper_url + \"'\"\n",
    "        \n",
    "    if item.video_url != '-':\n",
    "        md += \"\\nvideo_url: '\" + item.video_url + \"'\"\n",
    "        \n",
    "    md += \"\\n---\"\n",
    "    \n",
    "    ## Markdown description for individual page\n",
    "        \n",
    "    #if len(str(item.paper_url)) > 5:\n",
    "    #    md += \"\\n[Download paper here](\" + item.paper_url + \")\\n\" \n",
    "            \n",
    "    md_filename = os.path.basename(md_filename)\n",
    "       \n",
    "    with open(\"../_publications/\" + md_filename, 'w') as f:\n",
    "        f.write(md)"
   ]
  },
  {
   "cell_type": "markdown",
   "metadata": {},
   "source": [
    "These files are in the publications directory, one directory below where we're working from."
   ]
  },
  {
   "cell_type": "code",
   "execution_count": 20,
   "metadata": {},
   "outputs": [
    {
     "name": "stdout",
     "output_type": "stream",
     "text": [
      "2013-amico.md      2017-chromepic.md  2019-seacma.md     2021-phishprint.md\r\n",
      "2016-maxs.md       2018-jsgraph.md    2020-pushads.md\r\n"
     ]
    }
   ],
   "source": [
    "!ls ../_publications/"
   ]
  },
  {
   "cell_type": "code",
   "execution_count": 21,
   "metadata": {},
   "outputs": [
    {
     "name": "stdout",
     "output_type": "stream",
     "text": [
      "---\r\n",
      "title: \"What You See is NOT What You Get: Discovering and Tracking Ad-Driven Social Engineering Attack Campaigns\"\r\n",
      "collection: publications\r\n",
      "permalink: /publication/2019-seacma\r\n",
      "year: 2019\r\n",
      "conference: '19th ACM Internet Measurement Conference (IMC)'\r\n",
      "authors: ['Phani Vadrevu', 'Roberto Perdisci']\r\n",
      "location: 'Amsterdam, Netherlands'\r\n",
      "accepted: '38'\r\n",
      "submitted: '197'\r\n",
      "paper_url: '/files/papers/seacma.pdf'\r\n",
      "video_url: 'https://vimeo.com/showcase/6531379/video/369121670#t=3018s'\r\n",
      "---"
     ]
    }
   ],
   "source": [
    "!cat ../_publications/2019-seacma.md"
   ]
  },
  {
   "cell_type": "code",
   "execution_count": null,
   "metadata": {
    "collapsed": true
   },
   "outputs": [],
   "source": []
  }
 ],
 "metadata": {
  "kernelspec": {
   "display_name": "Python 3",
   "language": "python",
   "name": "python3"
  },
  "language_info": {
   "codemirror_mode": {
    "name": "ipython",
    "version": 3
   },
   "file_extension": ".py",
   "mimetype": "text/x-python",
   "name": "python",
   "nbconvert_exporter": "python",
   "pygments_lexer": "ipython3",
   "version": "3.8.2"
  }
 },
 "nbformat": 4,
 "nbformat_minor": 1
}
